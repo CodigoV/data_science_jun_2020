{
 "metadata": {
  "language_info": {
   "codemirror_mode": {
    "name": "ipython",
    "version": 3
   },
   "file_extension": ".py",
   "mimetype": "text/x-python",
   "name": "python",
   "nbconvert_exporter": "python",
   "pygments_lexer": "ipython3",
   "version": 3
  },
  "orig_nbformat": 2,
  "kernelspec": {
   "name": "python_defaultSpec_1595796308333",
   "display_name": "Python 3.6.4 64-bit"
  }
 },
 "nbformat": 4,
 "nbformat_minor": 2,
 "cells": [
  {
   "cell_type": "markdown",
   "metadata": {},
   "source": [
    "### 1. From HTML\n",
    "\n",
    "*Using only beautiful soap*\n",
    "\n",
    "Save in a dataframe the next information using web scraping. Each row of the dataframe must have in different columns:\n",
    "\n",
    "- The name of the title\n",
    "- The id of the div where is the value scraped. If there is not id, then the value is must be numpy.nan\n",
    "- The name of the tag where is the value scraped.\n",
    "- The next scraped values in different rows: \n",
    "    - The value: \"Este es el segundo párrafo\"  --> Row 1\n",
    "    - The url https://pagina1.xyz/ --> Row 2\n",
    "    - The url https://pagina4.xyz/ --> Row 3\n",
    "    - The url https://pagina5.xyz/ --> Row 4\n",
    "    - The value \"links footer-links\" --> Row 5\n",
    "    - The value \"Este párrafo está en el footer\" --> Row 6"
   ]
  },
  {
   "cell_type": "code",
   "execution_count": null,
   "metadata": {},
   "outputs": [],
   "source": [
    "https://j2logo.com/python/web-scraping-con-python-guia-inicio-beautifulsoup/\n",
    "\n",
    "http://omz-software.com/pythonista/docs/ios/beautifulsoup_guide.html\n",
    "\n",
    "https://towardsdatascience.com/top-5-beautiful-soup-functions-7bfe5a693482\n",
    "\n",
    "https://www.crummy.com/software/BeautifulSoup/bs4/doc/"
   ]
  },
  {
   "cell_type": "code",
   "execution_count": 1,
   "metadata": {},
   "outputs": [],
   "source": [
    "import re\n",
    "import requests\n",
    "from bs4 import BeautifulSoup\n",
    "import pandas as pd\n",
    "import numpy as np"
   ]
  },
  {
   "cell_type": "code",
   "execution_count": 2,
   "metadata": {},
   "outputs": [],
   "source": [
    "html = \"\"\"<html lang=\"es\">\n",
    "<head>\n",
    "    <meta charset=\"UTF-8\">\n",
    "    <title>Página de prueba</title>\n",
    "</head>\n",
    "<body>\n",
    "<div id=\"main\" class=\"full-width\">\n",
    "    <h1>El título de la página</h1>\n",
    "    <p>Este es el primer párrafo</p>\n",
    "    <p>Este es el segundo párrafo</p>\n",
    "    <div id=\"innerDiv\">\n",
    "        <div class=\"links\">\n",
    "            <a href=\"https://pagina1.xyz/\">Enlace 1</a>\n",
    "            <a href=\"https://pagina2.xyz/\">Enlace 2</a>\n",
    "        </div>\n",
    "        <div class=\"right\">\n",
    "            <div class=\"links\">\n",
    "                <a href=\"https://pagina3.xyz/\">Enlace 3</a>\n",
    "                <a href=\"https://pagina4.xyz/\">Enlace 4</a>\n",
    "            </div>\n",
    "        </div>\n",
    "    </div>\n",
    "    <div id=\"footer\">\n",
    "        <!-- El footer -->\n",
    "        <p>Este párrafo está en el footer</p>\n",
    "        <div class=\"links footer-links\">\n",
    "            <a href=\"https://pagina5.xyz/\">Enlace 5</a>\n",
    "        </div>\n",
    "    </div>\n",
    "</div>\n",
    "</body>\n",
    "</html>\"\"\""
   ]
  },
  {
   "cell_type": "code",
   "execution_count": 3,
   "metadata": {},
   "outputs": [],
   "source": [
    "soup = BeautifulSoup(html, 'html.parser')"
   ]
  },
  {
   "cell_type": "code",
   "execution_count": 4,
   "metadata": {},
   "outputs": [
    {
     "output_type": "execute_result",
     "data": {
      "text/plain": "bs4.BeautifulSoup"
     },
     "metadata": {},
     "execution_count": 4
    }
   ],
   "source": [
    "type(soup)"
   ]
  },
  {
   "cell_type": "code",
   "execution_count": 5,
   "metadata": {},
   "outputs": [
    {
     "output_type": "execute_result",
     "data": {
      "text/plain": "'<title>Página de prueba</title>'"
     },
     "metadata": {},
     "execution_count": 5
    }
   ],
   "source": [
    "#The name of the title \n",
    "titulo= str(soup.title)\n",
    "titulo"
   ]
  },
  {
   "cell_type": "code",
   "execution_count": 6,
   "metadata": {},
   "outputs": [
    {
     "output_type": "execute_result",
     "data": {
      "text/plain": "{'id': 'main', 'class': ['full-width']}"
     },
     "metadata": {},
     "execution_count": 6
    }
   ],
   "source": [
    "#The id of the div where is the value scraped. If there is not id, then the value is must be numpy.nan \n",
    "div_id= soup.div\n",
    "dicc= div_id.attrs\n",
    "dicc"
   ]
  },
  {
   "cell_type": "code",
   "execution_count": 7,
   "metadata": {
    "tags": []
   },
   "outputs": [
    {
     "output_type": "execute_result",
     "data": {
      "text/plain": "[<a href=\"https://pagina1.xyz/\">Enlace 1</a>,\n <a href=\"https://pagina2.xyz/\">Enlace 2</a>,\n <a href=\"https://pagina3.xyz/\">Enlace 3</a>,\n <a href=\"https://pagina4.xyz/\">Enlace 4</a>,\n <a href=\"https://pagina5.xyz/\">Enlace 5</a>]"
     },
     "metadata": {},
     "execution_count": 7
    }
   ],
   "source": [
    "filas_todas= div_id.find_all(\"a\")\n",
    "filas_l=list(filas_todas)\n",
    "filas_l"
   ]
  },
  {
   "cell_type": "code",
   "execution_count": 8,
   "metadata": {},
   "outputs": [
    {
     "output_type": "execute_result",
     "data": {
      "text/plain": "[<p>Este es el primer párrafo</p>,\n <p>Este es el segundo párrafo</p>,\n <p>Este párrafo está en el footer</p>]"
     },
     "metadata": {},
     "execution_count": 8
    }
   ],
   "source": [
    "tag_p = list(soup.find_all('p'))\n",
    "tag_p"
   ]
  },
  {
   "cell_type": "code",
   "execution_count": 9,
   "metadata": {},
   "outputs": [
    {
     "output_type": "execute_result",
     "data": {
      "text/plain": "'<p>Este es el segundo párrafo</p>'"
     },
     "metadata": {},
     "execution_count": 9
    }
   ],
   "source": [
    "row1= str(tag_p[1])\n",
    "row1"
   ]
  },
  {
   "cell_type": "code",
   "execution_count": 10,
   "metadata": {},
   "outputs": [
    {
     "output_type": "execute_result",
     "data": {
      "text/plain": "'<a href=\"https://pagina1.xyz/\">Enlace 1</a>'"
     },
     "metadata": {},
     "execution_count": 10
    }
   ],
   "source": [
    "row2= str(filas_l[0])\n",
    "row2"
   ]
  },
  {
   "cell_type": "code",
   "execution_count": 11,
   "metadata": {},
   "outputs": [
    {
     "output_type": "execute_result",
     "data": {
      "text/plain": "'<a href=\"https://pagina4.xyz/\">Enlace 4</a>'"
     },
     "metadata": {},
     "execution_count": 11
    }
   ],
   "source": [
    "row3= str(filas_l[3])\n",
    "row3"
   ]
  },
  {
   "cell_type": "code",
   "execution_count": 12,
   "metadata": {},
   "outputs": [
    {
     "output_type": "execute_result",
     "data": {
      "text/plain": "'<a href=\"https://pagina5.xyz/\">Enlace 5</a>'"
     },
     "metadata": {},
     "execution_count": 12
    }
   ],
   "source": [
    "row4= str(filas_l[4])\n",
    "row4"
   ]
  },
  {
   "cell_type": "code",
   "execution_count": 14,
   "metadata": {
    "tags": []
   },
   "outputs": [
    {
     "output_type": "execute_result",
     "data": {
      "text/plain": "[<div id=\"footer\">\n <!-- El footer -->\n <p>Este párrafo está en el footer</p>\n <div class=\"links footer-links\">\n <a href=\"https://pagina5.xyz/\">Enlace 5</a>\n </div>\n </div>]"
     },
     "metadata": {},
     "execution_count": 14
    }
   ],
   "source": [
    "# The value \"links footer-links\" --> Row 5\n",
    "footer_3 = soup.find_all(id='footer')\n",
    "footer_3"
   ]
  },
  {
   "cell_type": "code",
   "execution_count": 15,
   "metadata": {},
   "outputs": [
    {
     "output_type": "execute_result",
     "data": {
      "text/plain": "'[<div class=\"links footer-links\">\\n<a href=\"https://pagina5.xyz/\">Enlace 5</a>\\n</div>]'"
     },
     "metadata": {},
     "execution_count": 15
    }
   ],
   "source": [
    "# The value \"links footer-links\" --> Row 5\n",
    "row5= str(soup.select('div.footer-links.links'))\n",
    "row5"
   ]
  },
  {
   "cell_type": "code",
   "execution_count": 16,
   "metadata": {},
   "outputs": [
    {
     "output_type": "execute_result",
     "data": {
      "text/plain": "'<p>Este párrafo está en el footer</p>'"
     },
     "metadata": {},
     "execution_count": 16
    }
   ],
   "source": [
    "# The value \"Este párrafo está en el footer\" --> Row 6\n",
    "row6= str(tag_p[2])\n",
    "row6"
   ]
  },
  {
   "cell_type": "code",
   "execution_count": 17,
   "metadata": {},
   "outputs": [],
   "source": [
    "x = [re.search('\"\\w+\"', e).group()[1:-1] for e in re.findall(\"id=.*\",str(soup.contents[0]))]"
   ]
  },
  {
   "cell_type": "code",
   "execution_count": 18,
   "metadata": {},
   "outputs": [
    {
     "output_type": "execute_result",
     "data": {
      "text/plain": "['id=\"main\">', 'id=\"innerDiv\">', 'id=\"footer\">']"
     },
     "metadata": {},
     "execution_count": 18
    }
   ],
   "source": [
    "lista_id = re.findall(\"id=.*\",str(soup.contents[0]))\n",
    "lista_id"
   ]
  },
  {
   "cell_type": "code",
   "execution_count": 19,
   "metadata": {
    "tags": []
   },
   "outputs": [
    {
     "output_type": "stream",
     "name": "stdout",
     "text": "main\ninnerDiv\nfooter\n"
    }
   ],
   "source": [
    "for e in lista_id:\n",
    "    print(re.search('\"\\w+\"', e).group()[1:-1])"
   ]
  },
  {
   "cell_type": "code",
   "execution_count": 23,
   "metadata": {
    "tags": []
   },
   "outputs": [
    {
     "output_type": "execute_result",
     "data": {
      "text/plain": "['<p>Este es el segundo párrafo</p>',\n '<a href=\"https://pagina1.xyz/\">Enlace 1</a>',\n '<a href=\"https://pagina4.xyz/\">Enlace 4</a>',\n '<a href=\"https://pagina5.xyz/\">Enlace 5</a>',\n '[<div class=\"links footer-links\">\\n<a href=\"https://pagina5.xyz/\">Enlace 5</a>\\n</div>]',\n '<p>Este párrafo está en el footer</p>']"
     },
     "metadata": {},
     "execution_count": 23
    }
   ],
   "source": [
    "value_1= [row1, row2,row3, row4,row5,row6]\n",
    "value_1"
   ]
  },
  {
   "cell_type": "code",
   "execution_count": 25,
   "metadata": {},
   "outputs": [],
   "source": [
    "data= {\"Titulo\":[titulo, titulo, titulo, titulo, titulo, titulo], \"ID\":[\"main\", \"innerDiv\", \"Nan\", \"footer\", \"footer\", \"footer\"], \"T.A.G\":[\"p\", \"a\",\"a\",\"a\",\"a\",\"p\"], \"VALUE\": [row1,row2, row3,row4, row5, row6]}"
   ]
  },
  {
   "cell_type": "code",
   "execution_count": 27,
   "metadata": {},
   "outputs": [
    {
     "output_type": "execute_result",
     "data": {
      "text/plain": "ooter     p   \n\n                                               VALUE  \n0                  <p>Este es el segundo párrafo</p>  \n1        <a href=\"https://pagina1.xyz/\">Enlace 1</a>  \n2        <a href=\"https://pagina4.xyz/\">Enlace 4</a>  \n3        <a href=\"https://pagina5.xyz/\">Enlace 5</a>  \n4  [<div class=\"links footer-links\">\\n<a href=\"ht...  \n5              <p>Este párrafo está en el footer</p>  ",
      "text/html": "<div>\n<style scoped>\n    .dataframe tbody tr th:only-of-type {\n        vertical-align: middle;\n    }\n\n    .dataframe tbody tr th {\n        vertical-align: top;\n    }\n\n    .dataframe thead th {\n        text-align: right;\n    }\n</style>\n<table border=\"1\" class=\"dataframe\">\n  <thead>\n    <tr style=\"text-align: right;\">\n      <th></th>\n      <th>Titulo</th>\n      <th>ID</th>\n      <th>T.A.G</th>\n      <th>VALUE</th>\n    </tr>\n  </thead>\n  <tbody>\n    <tr>\n      <th>0</th>\n      <td>&lt;title&gt;Página de prueba&lt;/title&gt;</td>\n      <td>main</td>\n      <td>p</td>\n      <td>&lt;p&gt;Este es el segundo párrafo&lt;/p&gt;</td>\n    </tr>\n    <tr>\n      <th>1</th>\n      <td>&lt;title&gt;Página de prueba&lt;/title&gt;</td>\n      <td>innerDiv</td>\n      <td>a</td>\n      <td>&lt;a href=\"https://pagina1.xyz/\"&gt;Enlace 1&lt;/a&gt;</td>\n    </tr>\n    <tr>\n      <th>2</th>\n      <td>&lt;title&gt;Página de prueba&lt;/title&gt;</td>\n      <td>Nan</td>\n      <td>a</td>\n      <td>&lt;a href=\"https://pagina4.xyz/\"&gt;Enlace 4&lt;/a&gt;</td>\n    </tr>\n    <tr>\n      <th>3</th>\n      <td>&lt;title&gt;Página de prueba&lt;/title&gt;</td>\n      <td>footer</td>\n      <td>a</td>\n      <td>&lt;a href=\"https://pagina5.xyz/\"&gt;Enlace 5&lt;/a&gt;</td>\n    </tr>\n    <tr>\n      <th>4</th>\n      <td>&lt;title&gt;Página de prueba&lt;/title&gt;</td>\n      <td>footer</td>\n      <td>a</td>\n      <td>[&lt;div class=\"links footer-links\"&gt;\\n&lt;a href=\"ht...</td>\n    </tr>\n    <tr>\n      <th>5</th>\n      <td>&lt;title&gt;Página de prueba&lt;/title&gt;</td>\n      <td>footer</td>\n      <td>p</td>\n      <td>&lt;p&gt;Este párrafo está en el footer&lt;/p&gt;</td>\n    </tr>\n  </tbody>\n</table>\n</div>"
     },
     "metadata": {},
     "execution_count": 27
    }
   ],
   "source": [
    "df = pd.DataFrame(data, columns = ['Titulo', 'ID', \"T.A.G\", \"VALUE\" ])\n",
    "df"
   ]
  },
  {
   "cell_type": "markdown",
   "metadata": {},
   "source": [
    "### 2. From Amazon\n",
    "\n",
    "*Using  beautiful soap and/or regex*\n",
    "\n",
    "Save in a dataframe the next information using web scraping. Using product pages from Amazon, do the following: \n",
    "\n",
    "- Get the product name from the web and save it in a column called \"item_name\"\n",
    "- Get the price from the web and save it in a column called \"item_price\"\n",
    "\n",
    "While you are doing the exercise, document the steps you are doing. Try to do the program for generic pages. If you cannot do it generic, explain the reasons. \n",
    "\n",
    "-------------------------------\n",
    "\n",
    "**Example:** \n",
    "\n",
    "url = https://www.amazon.es/Tommy-Hilfiger-UM0UM00054-Camiseta-Hombre/dp/B01MYD0T1F/ref=sr_1_1?dchild=1&pf_rd_p=58224bec-cac9-4dd2-a42a-61b1db609c2d&pf_rd_r=VZQ1JTQXFVRZ9E9VSKX4&qid=1595364419&s=apparel&sr=1-1\n",
    "\n",
    "*item_name* --> \"Tommy Hilfiger Logo Camiseta de Cuello Redondo,Perfecta para El Tiempo Libre para Hombre\"\n",
    "\n",
    "*item_price* --> [[18,99 € - 46,59 €]] or one of the options.\n",
    "\n",
    "\n"
   ]
  },
  {
   "cell_type": "code",
   "execution_count": 2,
   "metadata": {},
   "outputs": [],
   "source": [
    "#Primer intento, de la página de amazon se toma url \n",
    "\n",
    "url= \"https://www.amazon.es/BBC-BBC2546862-Micro-Bit-Go/dp/B01G8X7VM2/ref=sr_1_5?__mk_es_ES=ÅMÅŽÕÑ&dchild=1&keywords=micro+bit&qid=1595785974&sr=8-5\""
   ]
  },
  {
   "cell_type": "code",
   "execution_count": 3,
   "metadata": {},
   "outputs": [],
   "source": [
    "# Se aplica al libreria soup, más la duncion de Gabriel \n",
    "def show_html(html_str):\n",
    "    print(BeautifulSoup(str(html_str), 'html.parser').prettify())"
   ]
  },
  {
   "cell_type": "code",
   "execution_count": 5,
   "metadata": {
    "tags": []
   },
   "outputs": [
    {
     "output_type": "stream",
     "name": "stdout",
     "text": "Amazon CAPTCHA\n\n\n\n\n\n\n\n\n\n\n\n\n\nIntroduce los caracteres que se muestran a continuaciÃ³n\nLo sentimos, tenemos que asegurarnos de que eres una persona. Para obtener el mejor resultado, asegÃºrate de que tu navegador acepta cookies.\n\n\n\n\n\n\n\n\n\n\nTeclea los caracteres que aparecen en la imagen:\n\n\n\n\n\n\n\n\n\nProbar con una imagen distinta\n\n\n\n\n\n\n\n\n\n\n\nSeguir comprando\n\n\n\n\n\n\n\n\n\n\n\nCondiciones de Uso y Venta\n\n\n\n\nAviso de privacidad\n\n\n          © 1996-2015, Amazon.com, Inc. o afiliados\n\n"
    }
   ],
   "source": [
    "# Se hace el llamado a la url con request y amazon manda captcha\n",
    "def get_page_contents(url):\n",
    "    page = requests.get(url, headers={\"User-agent\": 'Mozilla/5.0 (X11; Linux x86_64) AppleWebKit/537.36 (KHTML, like Gecko) Chrome/79.0.3945.130 Safari/537.36'})\n",
    "    return BeautifulSoup(page.text, \"html.parser\")\n",
    "soup = get_page_contents(url)\n",
    "show_html(soup.text)"
   ]
  },
  {
   "cell_type": "code",
   "execution_count": null,
   "metadata": {},
   "outputs": [],
   "source": [
    "#segundo intento con con otra url y otro procedimiento. Mismo resultado. "
   ]
  },
  {
   "cell_type": "code",
   "execution_count": 3,
   "metadata": {},
   "outputs": [],
   "source": [
    "url_2= \"https://www.amazon.com/micro-bit-BBC2546862-Micro-go/dp/B01G8X7VM2/ref=sr_1_1_sspa?__mk_es_US=%C3%85M%C3%85%C5%BD%C3%95%C3%91&crid=251B9JNZ4MDVC&dchild=1&keywords=microbit&qid=1595786902&sprefix=microbit%2Caps%2C217&sr=8-1-spons&psc=1&spLa=ZW5jcnlwdGVkUXVhbGlmaWVyPUEyT1RWT1hJWTlCS0laJmVuY3J5cHRlZElkPUEwNDQzMTUwM0g5NUcwOFNESzBURiZlbmNyeXB0ZWRBZElkPUEwODAyNDQ3MVcwODI1SE1XSTRONiZ3aWRnZXROYW1lPXNwX2F0ZiZhY3Rpb249Y2xpY2tSZWRpcmVjdCZkb05vdExvZ0NsaWNrPXRydWU=\""
   ]
  },
  {
   "cell_type": "code",
   "execution_count": 4,
   "metadata": {},
   "outputs": [],
   "source": [
    "headers = {\"User-agent\": 'Mozilla/5.0 (X11; Linux x86_64) AppleWebKit/537.36 (KHTML, like Gecko) Chrome/79.0.3945.130 Safari/537.36'}"
   ]
  },
  {
   "cell_type": "code",
   "execution_count": 5,
   "metadata": {},
   "outputs": [],
   "source": [
    "page = requests.get(url_2, headers=headers)"
   ]
  },
  {
   "cell_type": "code",
   "execution_count": 6,
   "metadata": {},
   "outputs": [
    {
     "output_type": "execute_result",
     "data": {
      "text/plain": "azon.com/gp/advertising/api/detail/main.html/ref=rm_c_ac for advertising use cases.\n-->\n<!--\nCorreios.DoNotSend\n-->\n<div class=\"a-container a-padding-double-large\" style=\"min-width:350px;padding:44px 0 !important\">\n<div class=\"a-row a-spacing-double-large\" style=\"width: 350px; margin: 0 auto\">\n<div class=\"a-row a-spacing-medium a-text-center\"><i class=\"a-icon a-logo\"></i></div>\n<div class=\"a-box a-alert a-alert-info a-spacing-base\">\n<div class=\"a-box-inner\">\n<i class=\"a-icon a-icon-alert\"></i>\n<h4>Enter the characters you see below</h4>\n<p class=\"a-last\">Sorry, we just need to make sure you're not a robot. For best results, please make sure your browser is accepting cookies.</p>\n</div>\n</div>\n<div class=\"a-section\">\n<div class=\"a-box a-color-offset-background\">\n<div class=\"a-box-inner a-padding-extra-large\">\n<form action=\"/errors/validateCaptcha\" method=\"get\" name=\"\">\n<input name=\"amzn\" type=\"hidden\" value=\"MdTzbBMep+PYXbOBe8OwUA==\"/><input name=\"amzn-r\" type=\"hidden\" value=\"/micro-bit-BBC2546862-Micro-go/dp/B01G8X7VM2/ref=sr_1_1_sspa?__mk_es_US=%C3%85M%C3%85%C5%BD%C3%95%C3%91&amp;crid=251B9JNZ4MDVC&amp;dchild=1&amp;keywords=microbit&amp;qid=1595786902&amp;sprefix=microbit%2Caps%2C217&amp;sr=8-1-spons&amp;psc=1&amp;spLa=ZW5jcnlwdGVkUXVhbGlmaWVyPUEyT1RWT1hJWTlCS0laJmVuY3J5cHRlZElkPUEwNDQzMTUwM0g5NUcwOFNESzBURiZlbmNyeXB0ZWRBZElkPUEwODAyNDQ3MVcwODI1SE1XSTRONiZ3aWRnZXROYW1lPXNwX2F0ZiZhY3Rpb249Y2xpY2tSZWRpcmVjdCZkb05vdExvZ0NsaWNrPXRydWU=\"/>\n<div class=\"a-row a-spacing-large\">\n<div class=\"a-box\">\n<div class=\"a-box-inner\">\n<h4>Type the characters you see in this image:</h4>\n<div class=\"a-row a-text-center\">\n<img src=\"https://images-na.ssl-images-amazon.com/captcha/docvmtpr/Captcha_mgfbeutsgh.jpg\"/>\n</div>\n<div class=\"a-row a-spacing-base\">\n<div class=\"a-row\">\n<div class=\"a-column a-span6\">\n</div>\n<div class=\"a-column a-span6 a-span-last a-text-right\">\n<a onclick=\"window.location.reload()\">Try different image</a>\n</div>\n</div>\n<input autocapitalize=\"off\" autocomplete=\"off\" autocorrect=\"off\" class=\"a-span12\" id=\"captchacharacters\" name=\"field-keywords\" placeholder=\"Type characters\" spellcheck=\"false\" type=\"text\"/>\n</div>\n</div>\n</div>\n</div>\n<div class=\"a-section a-spacing-extra-large\">\n<div class=\"a-row\">\n<span class=\"a-button a-button-primary a-span12\">\n<span class=\"a-button-inner\">\n<button class=\"a-button-text\" type=\"submit\">Continue shopping</button>\n</span>\n</span>\n</div>\n</div>\n</form>\n</div>\n</div>\n</div>\n</div>\n<div class=\"a-divider a-divider-section\"><div class=\"a-divider-inner\"></div></div>\n<div class=\"a-text-center a-spacing-small a-size-mini\">\n<a href=\"https://www.amazon.com/gp/help/customer/display.html/ref=footer_cou?ie=UTF8&amp;nodeId=508088\">Conditions of Use</a>\n<span class=\"a-letter-space\"></span>\n<span class=\"a-letter-space\"></span>\n<span class=\"a-letter-space\"></span>\n<span class=\"a-letter-space\"></span>\n<a href=\"https://www.amazon.com/gp/help/customer/display.html/ref=footer_privacy?ie=UTF8&amp;nodeId=468496\">Privacy Policy</a>\n</div>\n<div class=\"a-text-center a-size-mini a-color-secondary\">\n          © 1996-2014, Amazon.com, Inc. or its affiliates\n          <script>\n           if (true === true) {\n             document.write('<img src=\"https://fls-na.amaz'+'on.com/'+'1/oc-csi/1/OP/requestId=JDXB8H6P81V49D7GVBZ2&js=1\" />');\n           };\n          </script>\n<noscript>\n<img src=\"https://fls-na.amazon.com/1/oc-csi/1/OP/requestId=JDXB8H6P81V49D7GVBZ2&amp;js=0\">\n</img></noscript>\n</div>\n</div>\n<script>\n    if (true === true) {\n        var head = document.getElementsByTagName('head')[0],\n            prefix = \"https://images-na.ssl-images-amazon.com/images/G/01/csminstrumentation/\",\n            elem = document.createElement(\"script\");\n        elem.src = prefix + \"csm-captcha-instrumentation.min.js\";\n        head.appendChild(elem);\n\n        elem = document.createElement(\"script\");\n        elem.src = prefix + \"rd-script-6d68177fa6061598e9509dc4b5bdd08d.js\";\n        head.appendChild(elem);\n    }\n    </script>\n</body></html>"
     },
     "metadata": {},
     "execution_count": 6
    }
   ],
   "source": [
    "soup3 = BeautifulSoup(page.content, 'html.parser')\n",
    "soup3"
   ]
  },
  {
   "cell_type": "code",
   "execution_count": null,
   "metadata": {},
   "outputs": [],
   "source": []
  }
 ]
}